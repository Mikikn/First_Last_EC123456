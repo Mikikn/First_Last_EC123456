{
 "cells": [
  {
   "cell_type": "markdown",
   "id": "documentary-married",
   "metadata": {
    "pycharm": {
     "name": "#%% md\n"
    }
   },
   "source": [
    "# PDA Data Science - Outcome 4 Assessment Answer Notebook\n",
    "#### Student Name: Michaele Knfe\n",
    "#### Student Email: ec2232679@edinburghcollege.ac.uk\n",
    "#### 04/06/2024"
   ]
  },
  {
   "cell_type": "code",
   "execution_count": 85,
   "id": "clean-postcard",
   "metadata": {
    "pycharm": {
     "name": "#%%\n"
    }
   },
   "outputs": [
    {
     "name": "stdout",
     "output_type": "stream",
     "text": [
      "File exists.\n"
     ]
    }
   ],
   "source": [
    "from os import path\n",
    "\n",
    "# Define the file path with a raw string\n",
    "file_path = r\"C:\\Users\\micha\\OneDrive - Edinburgh College\\DS 8\\Scottish international exports and Scottish exports dataset.csv\"\n",
    "\n",
    "# Check if the file exists\n",
    "if path.exists(file_path):\n",
    "    print(\"File exists.\")\n",
    "else:\n",
    "    print(\"File does not exist or the path is incorrect.\")\n",
    "\n"
   ]
  },
  {
   "cell_type": "markdown",
   "id": "specific-reynolds",
   "metadata": {
    "pycharm": {
     "name": "#%% md\n"
    }
   },
   "source": [
    "### Answers\n",
    "<div class=\"alert alert-block alert-info\">\n",
    "<b>Note:</b> Add your code to answer each question, then double click to edit the markdown cell and with explanation of how you answered the question and any other information required by the question.</div>"
   ]
  },
  {
   "cell_type": "code",
   "execution_count": 86,
   "id": "subsequent-headline",
   "metadata": {
    "pycharm": {
     "name": "#%%\n"
    }
   },
   "outputs": [
    {
     "data": {
      "text/plain": [
       "(          DateCode         Value\n",
       " count  2465.000000   2465.000000\n",
       " mean   2010.000000   3190.778905\n",
       " std       4.899973   8181.190870\n",
       " min    2002.000000      5.000000\n",
       " 25%    2006.000000    275.000000\n",
       " 50%    2010.000000    710.000000\n",
       " 75%    2014.000000   2060.000000\n",
       " max    2018.000000  85020.000000,\n",
       " 2465)"
      ]
     },
     "execution_count": 86,
     "metadata": {},
     "output_type": "execute_result"
    }
   ],
   "source": [
    "# Question 1 answer code\n",
    "import pandas as pd\n",
    "\n",
    "# Load the data\n",
    "file_path = \"C:\\\\Users\\\\micha\\\\OneDrive - Edinburgh College\\\\DS 8\\\\Scottish international exports and Scottish exports dataset.csv\"\n",
    "df = pd.read_csv(file_path)\n",
    "\n",
    "# Summary of the data\n",
    "summary = df.describe()\n",
    "num_records = df.shape[0]\n",
    "\n",
    "summary, num_records\n",
    "\n"
   ]
  },
  {
   "cell_type": "markdown",
   "id": "91fabdca-26e2-42ec-ada6-df37876d18dc",
   "metadata": {
    "pycharm": {
     "name": "#%% md\n"
    }
   },
   "source": [
    "Question 1: To answer this question, I loaded the dataset using pd.read_csv() and then used df.describe() to generate a summary of the data, including statistical information such as mean, standard deviation, minimum, maximum, and quartiles. Additionally, I calculated the total number of records in the dataset using df.shape[0].\n",
    "\n",
    "\n"
   ]
  },
  {
   "cell_type": "code",
   "execution_count": 87,
   "id": "239a5bcf-9567-4c9d-85ba-4ce2b1cdfbbf",
   "metadata": {
    "pycharm": {
     "name": "#%%\n"
    }
   },
   "outputs": [
    {
     "name": "stdout",
     "output_type": "stream",
     "text": [
      "<class 'pandas.core.frame.DataFrame'>\n",
      "RangeIndex: 2465 entries, 0 to 2464\n",
      "Data columns (total 7 columns):\n",
      " #   Column                    Non-Null Count  Dtype  \n",
      "---  ------                    --------------  -----  \n",
      " 0   FeatureCode               2465 non-null   object \n",
      " 1   DateCode                  2465 non-null   int32  \n",
      " 2   Measurement               2465 non-null   object \n",
      " 3   Units                     2465 non-null   object \n",
      " 4   Value                     2465 non-null   float64\n",
      " 5   Industry Sector (SIC 07)  2465 non-null   object \n",
      " 6   Export Destination        2465 non-null   object \n",
      "dtypes: float64(1), int32(1), object(5)\n",
      "memory usage: 125.3+ KB\n"
     ]
    }
   ],
   "source": [
    "# Question 2 answer code\n",
    "\n",
    "# Check for missing values\n",
    "df.isnull().sum()\n",
    "\n",
    "# Data type conversion if necessary\n",
    "df['DateCode'] = df['DateCode'].astype(int)\n",
    "df['Value'] = df['Value'].astype(float)\n",
    "\n",
    "# Display cleaned dataframe info\n",
    "df.info()\n",
    "\n"
   ]
  },
  {
   "cell_type": "code",
   "execution_count": 88,
   "id": "c70664a7-3820-47a7-bdea-a11565b87bca",
   "metadata": {},
   "outputs": [
    {
     "name": "stdout",
     "output_type": "stream",
     "text": [
      "Index(['FeatureCode', 'year', 'Measurement', 'Units', 'value', 'sector',\n",
      "       'destination'],\n",
      "      dtype='object')\n",
      "Missing values in each column:\n",
      "FeatureCode    0\n",
      "year           0\n",
      "Measurement    0\n",
      "Units          0\n",
      "value          0\n",
      "sector         0\n",
      "destination    0\n",
      "dtype: int64\n",
      "Number of duplicate records: 0\n"
     ]
    }
   ],
   "source": [
    "# Rename columns for consistency and ease of use\n",
    "df.rename(columns={\n",
    "    'DateCode': 'year',\n",
    "    'Industry Sector (SIC 07)': 'sector',\n",
    "    'Export Destination': 'destination',\n",
    "    'Value': 'value'\n",
    "}, inplace=True)\n",
    "\n",
    "# Verify the changes\n",
    "print(df.columns)\n",
    "\n",
    "# Check for missing values\n",
    "missing_values = df.isnull().sum()\n",
    "print(f\"Missing values in each column:\\n{missing_values}\")\n",
    "\n",
    "# Check for duplicates\n",
    "duplicates = df.duplicated().sum()\n",
    "print(f\"Number of duplicate records: {duplicates}\")\n",
    "\n",
    "# Handling missing values (if any)\n",
    "df['value'].fillna(df['value'].mean(), inplace=True)\n"
   ]
  },
  {
   "cell_type": "markdown",
   "id": "f3bd08a0-99b8-4db8-a70d-c73d47687a6b",
   "metadata": {
    "pycharm": {
     "name": "#%% md\n"
    }
   },
   "source": [
    "\n",
    "Question 2: To answer this question, I first checked for missing values in the dataset using df.isnull().sum(). Then, I converted the 'DateCode' column to integer type and the 'Value' column to float type using astype() method to ensure appropriate data types for analysis. Finally, I displayed the cleaned dataframe information using df.info() to verify the changes."
   ]
  },
  {
   "cell_type": "code",
   "execution_count": 89,
   "id": "8aca8da7-d7ff-47b4-be3d-dfecfdceb4ac",
   "metadata": {},
   "outputs": [
    {
     "name": "stdout",
     "output_type": "stream",
     "text": [
      "Total exports to the EU:\n",
      "year\n",
      "2014    36010.0\n",
      "2016    39575.0\n",
      "2018    47255.0\n",
      "Name: value, dtype: float64\n",
      "Total non-EU exports:\n",
      "year\n",
      "2007    31780.0\n",
      "2012    44865.0\n",
      "2015    49165.0\n",
      "Name: value, dtype: float64\n",
      "Total exports in 2018:\n",
      "destination\n",
      "EU                47255.0\n",
      "International     98480.0\n",
      "Non-EU            51215.0\n",
      "Rest of UK       143340.0\n",
      "Total            241820.0\n",
      "Name: value, dtype: float64\n"
     ]
    }
   ],
   "source": [
    "# Question 3 answer code\n",
    "\n",
    "# a) Total exports from Scotland to the EU in 2018, 2016, and 2014\n",
    "total_exports_eu = df[(df['destination'] == 'EU') & (df['year'].isin([2018, 2016, 2014]))].groupby('year')['value'].sum()\n",
    "print(\"Total exports to the EU:\")\n",
    "print(total_exports_eu)\n",
    "\n",
    "# b) Total non-EU exports in 2007, 2015, and 2012\n",
    "total_exports_noneu = df[(df['destination'] == 'Non-EU') & (df['year'].isin([2007, 2015, 2012]))].groupby('year')['value'].sum()\n",
    "print(\"Total non-EU exports:\")\n",
    "print(total_exports_noneu)\n",
    "\n",
    "# c) All exports (non-EU, international, and to the rest of the UK) for 2018\n",
    "total_exports_2018 = df[df['year'] == 2018].groupby('destination')['value'].sum()\n",
    "print(\"Total exports in 2018:\")\n",
    "print(total_exports_2018)\n"
   ]
  },
  {
   "cell_type": "markdown",
   "id": "10557202-6771-49f2-822c-d5012c7c82b4",
   "metadata": {
    "pycharm": {
     "name": "#%% md\n"
    }
   },
   "source": [
    "Question 3: Part a: To answer this question, I filtered the dataset for exports to the EU in the years 2018, 2016, and 2014 using boolean indexing (df[(df['destination'] == 'EU') & (df['year'].isin([2018, 2016, 2014]))]). Then, I grouped the data by year and summed up the export values (groupby('year')['value'].sum()).\n",
    "\n",
    "Part b: Similarly, I filtered for non-EU exports in the years 2007, 2015, and 2012 and calculated the total export values for each year.\n",
    "\n",
    "Part c: Lastly, I calculated the total exports for all destinations (non-EU, international, and to the rest of the UK) specifically for the year 2018."
   ]
  },
  {
   "cell_type": "code",
   "execution_count": 90,
   "id": "229ef85a-1bb6-468c-9115-5b9bca7b384d",
   "metadata": {},
   "outputs": [
    {
     "name": "stdout",
     "output_type": "stream",
     "text": [
      "Top 3 sectors in 2017:\n",
      "sector\n",
      "Total                  198015.0\n",
      "Total Services          94795.0\n",
      "Total Manufacturing     75280.0\n",
      "Name: value, dtype: float64\n",
      "\n",
      "Top 3 sectors in 2018:\n",
      "sector\n",
      "Total                  203865.0\n",
      "Total Services          95760.0\n",
      "Total Manufacturing     78635.0\n",
      "Name: value, dtype: float64\n",
      "\n",
      "Percentage change from 2017 to 2018:\n",
      "sector\n",
      "Total                  2.954322\n",
      "Total Services         1.017986\n",
      "Total Manufacturing    4.456695\n",
      "Name: value, dtype: float64\n"
     ]
    }
   ],
   "source": [
    "# Question 4 answer code\n",
    "# Top 3 largest exporting sectors in 2017 and 2018\n",
    "top_sectors_2017 = df[df['year'] == 2017].groupby('sector')['value'].sum().nlargest(3)\n",
    "top_sectors_2018 = df[df['year'] == 2018].groupby('sector')['value'].sum().nlargest(3)\n",
    "\n",
    "# Calculate percentage change from 2017 to 2018 for these sectors\n",
    "# Ensure the sectors in 2017 are the same as in 2018 for comparison\n",
    "common_sectors = top_sectors_2017.index.intersection(top_sectors_2018.index)\n",
    "percentage_change = ((top_sectors_2018[common_sectors] - top_sectors_2017[common_sectors]) / top_sectors_2017[common_sectors]) * 100\n",
    "\n",
    "# Print the results\n",
    "print(\"Top 3 sectors in 2017:\")\n",
    "print(top_sectors_2017)\n",
    "print(\"\\nTop 3 sectors in 2018:\")\n",
    "print(top_sectors_2018)\n",
    "print(\"\\nPercentage change from 2017 to 2018:\")\n",
    "print(percentage_change)\n",
    "\n"
   ]
  },
  {
   "cell_type": "markdown",
   "id": "5c469b27-13f1-4abd-aafb-58686a0f6bfc",
   "metadata": {
    "pycharm": {
     "name": "#%% md\n"
    }
   },
   "source": [
    "Question 4: \n",
    "To answer this question, I first identified the top 3 sectors in terms of export value for the years 2017 and 2018 using groupby('sector')['value'].sum().nlargest(3). Then, I calculated the percentage change in export value from 2017 to 2018 for these sectors by comparing their export values."
   ]
  },
  {
   "cell_type": "code",
   "execution_count": 98,
   "id": "3990cbf1-0e7f-4b4a-a9bd-438fe4cb4004",
   "metadata": {
    "pycharm": {
     "name": "#%%\n"
    }
   },
   "outputs": [
    {
     "name": "stdout",
     "output_type": "stream",
     "text": [
      "The average total value of Basic Pharmaceuticals and Their Products exported to Non-EU countries is 295.44\n"
     ]
    }
   ],
   "source": [
    "# Question 5 answer code\n",
    "# Filter data for Basic Pharmaceuticals to Non-EU countries\n",
    "pharma_non_eu = df[(df['sector'].str.contains('Basic Pharmaceuticals and Their Products')) & (df['destination'] != 'EU')]\n",
    "\n",
    "# Calculate the average total value\n",
    "average_value = pharma_non_eu['value'].mean()\n",
    "print(f\"The average total value of Basic Pharmaceuticals and Their Products exported to Non-EU countries is {average_value:.2f}\")\n",
    "\n",
    "\n"
   ]
  },
  {
   "cell_type": "markdown",
   "id": "0a07a12c-f28c-4737-8c96-efafa5565c2f",
   "metadata": {
    "pycharm": {
     "name": "#%% md\n"
    }
   },
   "source": [
    "Question 5: To answer this question, I filtered the dataset to include exports of Basic Pharmaceuticals and Their Products to Non-EU countries using df[(df['sector'].str.contains('Basic Pharmaceuticals and Their Products')) & (df['destination'] != 'EU')]. Then, I calculated the average total export value (mean()) for this filtered subset."
   ]
  },
  {
   "cell_type": "code",
   "execution_count": 99,
   "id": "dfb9c49d-b9bc-4896-8cc9-18df8854503b",
   "metadata": {
    "pycharm": {
     "name": "#%%\n"
    }
   },
   "outputs": [
    {
     "data": {
      "text/plain": [
       "year\n",
       "2003    0.345178\n",
       "2004   -0.173585\n",
       "2005   -0.041096\n",
       "2006   -0.109524\n",
       "2007    0.304813\n",
       "2008    0.200820\n",
       "2009   -0.211604\n",
       "2010    0.116883\n",
       "2011   -0.034884\n",
       "2012   -0.140562\n",
       "2013   -0.065421\n",
       "2014    0.275000\n",
       "2015    0.086275\n",
       "2016   -0.173285\n",
       "2017    0.048035\n",
       "2018    0.041667\n",
       "Name: value, dtype: float64"
      ]
     },
     "execution_count": 99,
     "metadata": {},
     "output_type": "execute_result"
    }
   ],
   "source": [
    "# Question 6 answer code\n",
    "\n",
    "# Group by year and calculate total exports for Basic Pharmaceuticals to Non-EU\n",
    "pharma_trend = pharma_non_eu.groupby('year')['value'].sum().pct_change().dropna()\n",
    "\n",
    "pharma_trend\n",
    "\n"
   ]
  },
  {
   "cell_type": "markdown",
   "id": "aed8710f-afcc-4a04-9053-b6dbc101b83f",
   "metadata": {
    "pycharm": {
     "name": "#%% md\n"
    }
   },
   "source": [
    "Question 6: To answer this question, I first filtered the DataFrame pharma_non_eu to include only entries related to Basic Pharmaceuticals exported to Non-EU countries. Then, I grouped the data by year, calculated the total export value (sum()), computed the percentage change from the previous year (pct_change()), and dropped any rows with NaN values (dropna()). This provides a clear trend of how exports of Basic Pharmaceuticals to Non-EU countries have changed over time.\n",
    "\n"
   ]
  },
  {
   "cell_type": "code",
   "execution_count": 100,
   "id": "af86b296-8d2d-4434-b407-052ed876bacb",
   "metadata": {
    "pycharm": {
     "name": "#%%\n"
    }
   },
   "outputs": [
    {
     "name": "stdout",
     "output_type": "stream",
     "text": [
      "Fastest growing sector and destination:\n",
      "sector               Construction (Section F)\n",
      "destination                            Non-EU\n",
      "year                                     2003\n",
      "value                                   220.0\n",
      "percentage_change                  633.333333\n",
      "Name: 630, dtype: object\n"
     ]
    }
   ],
   "source": [
    "# Question 7 answer code\n",
    "# Calculate the total export value for each sector and destination\n",
    "sector_destination_growth = df.groupby(['sector', 'destination', 'year'])['value'].sum().reset_index()\n",
    "\n",
    "# Calculate the percentage change for each sector and destination\n",
    "sector_destination_growth['percentage_change'] = sector_destination_growth.groupby(['sector', 'destination'])['value'].pct_change() * 100\n",
    "\n",
    "# Find the sector and destination with the highest percentage change\n",
    "fastest_growing = sector_destination_growth.loc[sector_destination_growth['percentage_change'].idxmax()]\n",
    "print(f\"Fastest growing sector and destination:\\n{fastest_growing}\")\n"
   ]
  },
  {
   "cell_type": "markdown",
   "id": "1912b19d-1909-4a7f-913c-f88b47e5843e",
   "metadata": {
    "pycharm": {
     "name": "#%% md\n"
    }
   },
   "source": [
    "Question 7: For this question, I grouped the entire dataset df by sector, destination, and year to calculate the total export value (sum()). Then, I computed the percentage change in export values for each sector and destination using pct_change(). Finally, I identified the sector and destination with the highest percentage change in export values using idxmax()."
   ]
  },
  {
   "cell_type": "code",
   "execution_count": 116,
   "id": "af5263de-7681-4caa-a77f-ace5e6f72404",
   "metadata": {
    "pycharm": {
     "name": "#%%\n"
    }
   },
   "outputs": [
    {
     "name": "stdout",
     "output_type": "stream",
     "text": [
      "Fastest growing sector to the EU:\n",
      "sector               Real Estate Activities (Section L)\n",
      "year                                               2003\n",
      "value                                              35.0\n",
      "percentage_change                                 250.0\n",
      "Name: 307, dtype: object\n"
     ]
    }
   ],
   "source": [
    "# Question 8 answer code\n",
    "# Filter data for EU destinations\n",
    "eu_data = df[df['destination'] == 'EU']\n",
    "\n",
    "# Calculate the total export value for each sector to the EU\n",
    "sector_growth_eu = eu_data.groupby(['sector', 'year'])['value'].sum().reset_index()\n",
    "\n",
    "# Calculate the percentage change for each sector to the EU\n",
    "sector_growth_eu['percentage_change'] = sector_growth_eu.groupby('sector')['value'].pct_change() * 100\n",
    "\n",
    "# Find the sector with the highest percentage change\n",
    "fastest_growing_eu = sector_growth_eu.loc[sector_growth_eu['percentage_change'].idxmax()]\n",
    "print(f\"Fastest growing sector to the EU:\\n{fastest_growing_eu}\")\n",
    "\n"
   ]
  },
  {
   "cell_type": "markdown",
   "id": "4384c90d-6da5-4512-a89f-0d6638de6069",
   "metadata": {
    "pycharm": {
     "name": "#%% md\n"
    }
   },
   "source": [
    "Question 8: To address this question, I first filtered the dataset df to include only entries where the destination is the EU (eu_data). Then, I grouped this filtered data by sector and year to compute the total export value (sum()). Afterward, I calculated the percentage change in export values for each sector to the EU using pct_change(). Finally, I identified the sector with the highest percentage change in export values to the EU using idxmax()."
   ]
  },
  {
   "cell_type": "code",
   "execution_count": 104,
   "id": "32a5fec3-9b72-4e5a-973b-776c62ffb65b",
   "metadata": {
    "pycharm": {
     "name": "#%%\n"
    }
   },
   "outputs": [
    {
     "name": "stdout",
     "output_type": "stream",
     "text": [
      "Scotland's fastest growing sector for export to the rest of the UK is: Coke, Refined Petroleum Products, Chemicals and Chemical Products (Section CD,CE) with an average growth rate of 20.62%\n"
     ]
    }
   ],
   "source": [
    "# Question 9 answer code\n",
    "# Filter data for exports to the rest of the UK\n",
    "exports_uk = df[df['destination'] == 'Rest of UK']\n",
    "\n",
    "# Group by sector and year, then calculate the total export value per sector per year\n",
    "sector_yearly_exports = exports_uk.groupby(['sector', 'year'])['value'].sum().reset_index()\n",
    "\n",
    "# Calculate the year-over-year growth rate for each sector\n",
    "sector_yearly_exports['growth_rate'] = sector_yearly_exports.groupby('sector')['value'].pct_change()\n",
    "\n",
    "# Calculate the average growth rate per sector\n",
    "average_growth_rate = sector_yearly_exports.groupby('sector')['growth_rate'].mean().reset_index()\n",
    "\n",
    "# Find the sector with the highest average growth rate\n",
    "fastest_growing_sector_uk = average_growth_rate.loc[average_growth_rate['growth_rate'].idxmax()]\n",
    "\n",
    "print(f\"Scotland's fastest growing sector for export to the rest of the UK is: {fastest_growing_sector_uk['sector']} with an average growth rate of {fastest_growing_sector_uk['growth_rate']*100:.2f}%\")\n"
   ]
  },
  {
   "cell_type": "markdown",
   "id": "d87fd102-6873-4a39-9d9a-404acd7ff199",
   "metadata": {
    "pycharm": {
     "name": "#%% md\n"
    }
   },
   "source": [
    "Question 9: For this question, I started by filtering the dataset df to include only entries where the destination is the 'Rest of UK' (exports_uk). Then, I grouped this filtered data by sector and year to calculate the total export value per sector per year (sum()). Next, I computed the year-over-year growth rate for each sector using pct_change() within the grouped data. After that, I calculated the average growth rate per sector and identified the sector with the highest average growth rate using idxmax()."
   ]
  },
  {
   "cell_type": "code",
   "execution_count": 105,
   "id": "9491ad18-7218-4e9a-8530-8ff6b56f2708",
   "metadata": {
    "pycharm": {
     "name": "#%%\n"
    }
   },
   "outputs": [
    {
     "name": "stdout",
     "output_type": "stream",
     "text": [
      "   year   value  percentage_change\n",
      "0  2014  4845.0                NaN\n",
      "1  2015  5260.0           8.565531\n",
      "2  2016  5720.0           8.745247\n",
      "3  2017  6925.0          21.066434\n",
      "4  2018  7045.0           1.732852\n"
     ]
    },
    {
     "data": {
      "image/png": "[encoded data removed]",
      "text/plain": [
       "<Figure size 1000x600 with 1 Axes>"
      ]
     },
     "metadata": {},
     "output_type": "display_data"
    }
   ],
   "source": [
    "# Question 10 answer code\n",
    "# Filter data for the 'Computer, Electronic and Optical Products' sector\n",
    "computer_electronic_optical = df[df['sector'].str.contains('Computer, Electronic and Optical Products')]\n",
    "\n",
    "# Get the last 5 years available in the dataset\n",
    "latest_year = computer_electronic_optical['year'].max()\n",
    "last_5_years = list(range(latest_year - 4, latest_year + 1))\n",
    "\n",
    "# Filter data to include only the last 5 years\n",
    "last_5_years_data = computer_electronic_optical[computer_electronic_optical['year'].isin(last_5_years)]\n",
    "\n",
    "# Group by year and calculate the total export value for each year\n",
    "yearly_exports = last_5_years_data.groupby('year')['value'].sum().reset_index()\n",
    "\n",
    "# Calculate the percentage change year-over-year\n",
    "yearly_exports['percentage_change'] = yearly_exports['value'].pct_change() * 100\n",
    "\n",
    "print(yearly_exports)\n",
    "\n",
    "# Plot the trend\n",
    "import matplotlib.pyplot as plt\n",
    "\n",
    "plt.figure(figsize=(10, 6))\n",
    "plt.plot(yearly_exports['year'], yearly_exports['value'], marker='o')\n",
    "plt.title('Total Exports of Computer, Electronic and Optical Products (Last 5 Years)')\n",
    "plt.xlabel('Year')\n",
    "plt.ylabel('Export Value (million GBP)')\n",
    "plt.grid(True)\n",
    "plt.show()\n"
   ]
  },
  {
   "cell_type": "markdown",
   "id": "e190834a-0c7b-4627-87d0-cae1bf8edb88",
   "metadata": {
    "pycharm": {
     "name": "#%% md\n"
    }
   },
   "source": [
    "Question 10: To answer this question, I first filtered the dataset df to include only entries related to the 'Computer, Electronic and Optical Products' sector (computer_electronic_optical). Then, I determined the last 5 years available in the dataset and filtered the data accordingly (last_5_years_data). Next, I grouped this filtered data by year and calculated the total export value for each year (sum()). Afterward, I computed the percentage change year-over-year in export values using pct_change(). Finally, I printed the resulting DataFrame and plotted the trend of total exports of Computer, Electronic, and Optical Products over the last 5 years using matplotlib."
   ]
  },
  {
   "cell_type": "code",
   "execution_count": 110,
   "id": "714d1e57-a3cf-41af-95c0-b1af0275428a",
   "metadata": {
    "pycharm": {
     "name": "#%%\n"
    }
   },
   "outputs": [
    {
     "name": "stdout",
     "output_type": "stream",
     "text": [
      "No data available for Food, Beverages, and Tobacco Products in the last 5 years.\n"
     ]
    },
    {
     "data": {
      "image/png": "[encoded data removed]",
      "text/plain": [
       "<Figure size 1400x800 with 1 Axes>"
      ]
     },
     "metadata": {},
     "output_type": "display_data"
    }
   ],
   "source": [
    "# Question 11 answer code\n",
    "import pandas as pd\n",
    "import numpy as np\n",
    "import matplotlib.pyplot as plt\n",
    "from sklearn.linear_model import LinearRegression\n",
    "\n",
    "# Select the three industries\n",
    "industries = [\n",
    "    'Computer, Electronic and Optical Products',\n",
    "    'Basic Pharmaceuticals and Their Products',\n",
    "    'Food, Beverages, and Tobacco Products'\n",
    "]\n",
    "\n",
    "# Filter data for the selected industries\n",
    "filtered_df = df[df['sector'].str.contains('|'.join(industries), case=False)]\n",
    "\n",
    "# Get the last 5 years available in the dataset\n",
    "latest_year = filtered_df['year'].max()\n",
    "last_5_years = list(range(latest_year - 4, latest_year + 1))\n",
    "\n",
    "# Filter data to include only the last 5 years\n",
    "last_5_years_data = filtered_df[filtered_df['year'].isin(last_5_years)]\n",
    "\n",
    "# Group by year and sector, and calculate the total export value for each year\n",
    "yearly_exports = last_5_years_data.groupby(['year', 'sector'])['value'].sum().reset_index()\n",
    "\n",
    "# Prepare data for linear regression\n",
    "projections = {}\n",
    "years = np.array(last_5_years).reshape(-1, 1)\n",
    "\n",
    "for industry in industries:\n",
    "    industry_data = yearly_exports[yearly_exports['sector'].str.contains(industry, case=False)]\n",
    "    if industry_data.empty:\n",
    "        print(f\"No data available for {industry} in the last 5 years.\")\n",
    "        continue\n",
    "\n",
    "    X = industry_data['year'].values.reshape(-1, 1)\n",
    "    y = industry_data['value'].values\n",
    "\n",
    "    if len(X) < 2:\n",
    "        print(f\"Not enough data points for {industry} to perform linear regression.\")\n",
    "        continue\n",
    "\n",
    "    # Fit linear regression model\n",
    "    model = LinearRegression()\n",
    "    model.fit(X, y)\n",
    "\n",
    "    # Project the next 5 years\n",
    "    future_years = np.array(range(latest_year + 1, latest_year + 6)).reshape(-1, 1)\n",
    "    future_values = model.predict(future_years)\n",
    "    \n",
    "    projections[industry] = (future_years.flatten(), future_values)\n",
    "\n",
    "# Plot the projections\n",
    "plt.figure(figsize=(14, 8))\n",
    "\n",
    "for industry in projections:\n",
    "    past_years = yearly_exports[yearly_exports['sector'].str.contains(industry, case=False)]['year']\n",
    "    past_values = yearly_exports[yearly_exports['sector'].str.contains(industry, case=False)]['value']\n",
    "    future_years, future_values = projections[industry]\n",
    "    \n",
    "    plt.plot(past_years, past_values, marker='o', label=f'{industry} (Actual)')\n",
    "    plt.plot(future_years, future_values, marker='x', linestyle='--', label=f'{industry} (Projected)')\n",
    "\n",
    "plt.title('Export Value Projections for Selected Industries (Next 5 Years)')\n",
    "plt.xlabel('Year')\n",
    "plt.ylabel('Export Value (million GBP)')\n",
    "plt.legend()\n",
    "plt.grid(True)\n",
    "plt.show()"
   ]
  },
  {
   "cell_type": "markdown",
   "id": "23eb35db-2910-4158-9c97-bcff6acb2c00",
   "metadata": {
    "pycharm": {
     "name": "#%% md\n"
    }
   },
   "source": [
    "Question 11: To answer this question, I first selected three industries of interest (industries) and filtered the dataset (df) to include only entries related to these industries (filtered_df). Then, I identified the last 5 years available in the dataset and filtered the data accordingly (last_5_years_data). After that, I grouped the data by year and sector to calculate the total export value for each year (yearly_exports).\n",
    "\n",
    "Next, I performed linear regression for each industry to project the export values for the next 5 years. The projections were plotted alongside actual data using matplotlib, providing a visualization of the projected export values for each selected industry.\n",
    "\n"
   ]
  },
  {
   "cell_type": "code",
   "execution_count": 111,
   "id": "8a73f4ae-f6a0-4129-a80d-d682a5853a7b",
   "metadata": {
    "pycharm": {
     "name": "#%%\n"
    }
   },
   "outputs": [
    {
     "name": "stdout",
     "output_type": "stream",
     "text": [
      "Total exports to the rest of the UK by sector:\n",
      "                                               sector     value\n",
      "0         Accommodation and Food Services (Section I)   13140.0\n",
      "1     Administrative and Support Services (Section N)   35390.0\n",
      "2       Agriculture, Forestry and Fishing (Section A)   10895.0\n",
      "3   Basic Metals and Fabricated Metal Products, Ex...   13170.0\n",
      "4   Basic Pharmaceuticals and Their Products (Sect...    3195.0\n",
      "5   Coke, Refined Petroleum Products, Chemicals an...   21755.0\n",
      "6   Computer, Electronic and Optical Products (Sec...   13005.0\n",
      "7                            Construction (Section F)   29835.0\n",
      "8                               Education (Section P)    6690.0\n",
      "9                   Electrical Equipment (Section CJ)    3155.0\n",
      "10                Financial and Insurance (Section K)  140290.0\n",
      "11  Food Products, Beverages and Tobacco Products ...   55905.0\n",
      "12  Furniture, Other Manufacturing; Repair and Ins...   10465.0\n",
      "13          Information and Communication (Section J)   24685.0\n",
      "14        Machinery and Equipment N.E.C. (Section CK)    7625.0\n",
      "15                     Mining & Quarrying (Section B)   32835.0\n",
      "16                      Other Services (Section (Q-U)    3220.0\n",
      "17   Professional, Scientific & Technical (Section M)   48765.0\n",
      "18                 Real Estate Activities (Section L)    4620.0\n",
      "19  Rubber, Plastic and Other Non-Metallic Mineral...    8425.0\n",
      "20  Textiles, Wearing Apparel and Leather (Section...    5135.0\n",
      "21                                              Total  724595.0\n",
      "22                                Total Manufacturing  177585.0\n",
      "23                                     Total Services  413935.0\n",
      "24                   Transport Equipment (Section CL)   20320.0\n",
      "25             Transportation and Storage (Section H)   34295.0\n",
      "26                            Utilities (Section D,E)   59515.0\n",
      "27          Wholesale, Retail and Repairs (Section G)  102855.0\n",
      "28  Wood and Paper Products, and Printing (Section...   15435.0\n",
      "\n",
      "The most valuable sector for exports to the rest of the UK is 'Total' with a total value of 724595.00 million GBP.\n"
     ]
    }
   ],
   "source": [
    "# Question 12 answer code\n",
    "# Filter data for exports to the rest of the UK\n",
    "exports_uk = df[df['destination'] == 'Rest of UK']\n",
    "\n",
    "# Aggregate total export values for each sector\n",
    "sector_totals_uk = exports_uk.groupby('sector')['value'].sum().reset_index()\n",
    "\n",
    "# Identify the most valuable sector\n",
    "most_valuable_sector_uk = sector_totals_uk.loc[sector_totals_uk['value'].idxmax()]\n",
    "\n",
    "print(\"Total exports to the rest of the UK by sector:\")\n",
    "print(sector_totals_uk)\n",
    "print(f\"\\nThe most valuable sector for exports to the rest of the UK is '{most_valuable_sector_uk['sector']}' with a total value of {most_valuable_sector_uk['value']:.2f} million GBP.\")"
   ]
  },
  {
   "cell_type": "markdown",
   "id": "5121b6cc-b66f-4473-a233-af45d6d58885",
   "metadata": {
    "pycharm": {
     "name": "#%% md\n"
    }
   },
   "source": [
    "Question 12: For this question, I filtered the dataset (df) to include only entries where the destination is 'Rest of UK' (exports_uk). Then, I aggregated the total export values for each sector using groupby() and sum(), resulting in sector_totals_uk. Finally, I identified the sector with the highest total export value (most_valuable_sector_uk) and printed both the aggregated data and the most valuable sector."
   ]
  },
  {
   "cell_type": "code",
   "execution_count": 113,
   "id": "e106965d-a8bb-4488-8e96-61140c8fc6ca",
   "metadata": {
    "pycharm": {
     "name": "#%%\n"
    }
   },
   "outputs": [
    {
     "name": "stdout",
     "output_type": "stream",
     "text": [
      "\n",
      "Total exports internationally by sector:\n",
      "                                               sector     value\n",
      "0         Accommodation and Food Services (Section I)   10270.0\n",
      "1     Administrative and Support Services (Section N)   24205.0\n",
      "2       Agriculture, Forestry and Fishing (Section A)   10040.0\n",
      "3   Basic Metals and Fabricated Metal Products, Ex...   24155.0\n",
      "4   Basic Pharmaceuticals and Their Products (Sect...   11620.0\n",
      "5   Coke, Refined Petroleum Products, Chemicals an...   92290.0\n",
      "6   Computer, Electronic and Optical Products (Sec...   69775.0\n",
      "7                            Construction (Section F)    5055.0\n",
      "8                               Education (Section P)   16590.0\n",
      "9                   Electrical Equipment (Section CJ)   13155.0\n",
      "10                Financial and Insurance (Section K)   45510.0\n",
      "11  Food Products, Beverages and Tobacco Products ...  154170.0\n",
      "12  Furniture, Other Manufacturing; Repair and Ins...   19605.0\n",
      "13          Information and Communication (Section J)   27320.0\n",
      "14        Machinery and Equipment N.E.C. (Section CK)   36305.0\n",
      "15                     Mining & Quarrying (Section B)   41065.0\n",
      "16                      Other Services (Section (Q-U)    4830.0\n",
      "17   Professional, Scientific & Technical (Section M)   81865.0\n",
      "18                 Real Estate Activities (Section L)    1565.0\n",
      "19  Rubber, Plastic and Other Non-Metallic Mineral...   21810.0\n",
      "20  Textiles, Wearing Apparel and Leather (Section...   12105.0\n",
      "21                                              Total  861955.0\n",
      "22                                Total Manufacturing  503915.0\n",
      "23                                     Total Services  294580.0\n",
      "24                   Transport Equipment (Section CL)   35880.0\n",
      "25             Transportation and Storage (Section H)   29915.0\n",
      "26                            Utilities (Section D,E)    7295.0\n",
      "27          Wholesale, Retail and Repairs (Section G)   52530.0\n",
      "28  Wood and Paper Products, and Printing (Section...   13015.0\n",
      "\n",
      "The most valuable sector for international exports is 'Total' with a total value of 861955.00 million GBP.\n"
     ]
    }
   ],
   "source": [
    "# Question 13 answer code\n",
    "# Filter data for international exports (excluding 'Rest of UK' and 'Total')\n",
    "exports_international = df[df['destination'].isin(['EU', 'Non-EU', 'International'])]\n",
    "\n",
    "# Aggregate total export values for each sector\n",
    "sector_totals_international = exports_international.groupby('sector')['value'].sum().reset_index()\n",
    "\n",
    "# Identify the most valuable sector\n",
    "most_valuable_sector_international = sector_totals_international.loc[sector_totals_international['value'].idxmax()]\n",
    "\n",
    "print(\"\\nTotal exports internationally by sector:\")\n",
    "print(sector_totals_international)\n",
    "print(f\"\\nThe most valuable sector for international exports is '{most_valuable_sector_international['sector']}' with a total value of {most_valuable_sector_international['value']:.2f} million GBP.\")\n"
   ]
  },
  {
   "cell_type": "markdown",
   "id": "825c907d-3b43-47f2-99c9-1f699b1d1b69",
   "metadata": {
    "pycharm": {
     "name": "#%% md\n"
    }
   },
   "source": [
    "Question 13: To address this question, I filtered the dataset (df) to include only entries where the destination is either 'EU', 'Non-EU', or 'International' (exports_international). Then, I aggregated the total export values for each sector using groupby() and sum(), resulting in sector_totals_international. Finally, I identified the sector with the highest total export value (most_valuable_sector_international) among these international destinations and printed both the aggregated data and the most valuable sector."
   ]
  },
  {
   "cell_type": "code",
   "execution_count": 114,
   "id": "b2b8a550-2cf4-4b66-a1ea-5e369e7cdbe2",
   "metadata": {
    "pycharm": {
     "name": "#%%\n"
    }
   },
   "outputs": [
    {
     "name": "stdout",
     "output_type": "stream",
     "text": [
      "Total exports to the EU by sector:\n",
      "                                               sector     value\n",
      "0         Accommodation and Food Services (Section I)    2305.0\n",
      "1     Administrative and Support Services (Section N)    4145.0\n",
      "2       Agriculture, Forestry and Fishing (Section A)    2695.0\n",
      "3   Basic Metals and Fabricated Metal Products, Ex...    4545.0\n",
      "4   Basic Pharmaceuticals and Their Products (Sect...    3735.0\n",
      "5   Coke, Refined Petroleum Products, Chemicals an...   38135.0\n",
      "6   Computer, Electronic and Optical Products (Sec...   20560.0\n",
      "7                            Construction (Section F)    1050.0\n",
      "8                               Education (Section P)    2950.0\n",
      "9                   Electrical Equipment (Section CJ)    3700.0\n",
      "10                Financial and Insurance (Section K)    7485.0\n",
      "11  Food Products, Beverages and Tobacco Products ...   30715.0\n",
      "12  Furniture, Other Manufacturing; Repair and Ins...    2880.0\n",
      "13          Information and Communication (Section J)    3940.0\n",
      "14        Machinery and Equipment N.E.C. (Section CK)    7895.0\n",
      "15                     Mining & Quarrying (Section B)    5625.0\n",
      "16                      Other Services (Section (Q-U)    1185.0\n",
      "17   Professional, Scientific & Technical (Section M)   15215.0\n",
      "18                 Real Estate Activities (Section L)     385.0\n",
      "19  Rubber, Plastic and Other Non-Metallic Mineral...    7500.0\n",
      "20  Textiles, Wearing Apparel and Leather (Section...    3685.0\n",
      "21                                              Total  203765.0\n",
      "22                                Total Manufacturing  130560.0\n",
      "23                                     Total Services   61310.0\n",
      "24                   Transport Equipment (Section CL)    3330.0\n",
      "25             Transportation and Storage (Section H)    8040.0\n",
      "26                            Utilities (Section D,E)    2530.0\n",
      "27          Wholesale, Retail and Repairs (Section G)   15685.0\n",
      "28  Wood and Paper Products, and Printing (Section...    3875.0\n",
      "\n",
      "The most valuable sector for exports to the EU is 'Total' with a total value of 203765.00 million GBP.\n"
     ]
    }
   ],
   "source": [
    "# Question 14 answer code\n",
    "# Analyze total exports to the EU\n",
    "exports_eu = df[df['destination'] == 'EU']\n",
    "sector_totals_eu = exports_eu.groupby('sector')['value'].sum().reset_index()\n",
    "most_valuable_sector_eu = sector_totals_eu.loc[sector_totals_eu['value'].idxmax()]\n",
    "\n",
    "print(\"Total exports to the EU by sector:\")\n",
    "print(sector_totals_eu)\n",
    "print(f\"\\nThe most valuable sector for exports to the EU is '{most_valuable_sector_eu['sector']}' with a total value of {most_valuable_sector_eu['value']:.2f} million GBP.\")"
   ]
  },
  {
   "cell_type": "markdown",
   "id": "53e5a116-8add-4f3b-9d96-9e422e7ba122",
   "metadata": {
    "pycharm": {
     "name": "#%% md\n"
    }
   },
   "source": [
    "Question 14: For this question, I filtered the dataset (df) to include only entries where the destination is 'EU' (exports_eu). Then, I grouped the data by sector and calculated the total export value for each sector using groupby() and sum(), resulting in sector_totals_eu. Finally, I identified the sector with the highest total export value (most_valuable_sector_eu) and printed both the aggregated data and the most valuable sector."
   ]
  },
  {
   "cell_type": "code",
   "execution_count": 115,
   "id": "e883fde7-b628-4acf-a0a2-0a9a623823f4",
   "metadata": {
    "pycharm": {
     "name": "#%%\n"
    }
   },
   "outputs": [
    {
     "name": "stdout",
     "output_type": "stream",
     "text": [
      "Correlation coefficient between 'year' and 'value': 0.06\n"
     ]
    }
   ],
   "source": [
    "# Question 15 answer code\n",
    "# Select the variables of interest\n",
    "variables = df[['year', 'value']]\n",
    "\n",
    "# Calculate the correlation coefficient\n",
    "correlation_matrix = variables.corr()\n",
    "correlation_coefficient = correlation_matrix.loc['year', 'value']\n",
    "\n",
    "print(f\"Correlation coefficient between 'year' and 'value': {correlation_coefficient:.2f}\")"
   ]
  },
  {
   "cell_type": "markdown",
   "id": "5832108c-a368-4c8d-b842-4d15ba1b2f6c",
   "metadata": {},
   "source": [
    "Question 15: To answer this question, I selected the variables 'year' and 'value' from the dataset (df). Then, I calculated the correlation coefficient between these two variables using corr(), which computes the Pearson correlation coefficient by default. The resulting correlation_coefficient provides a measure of the linear relationship between the 'year' and 'value' variables.\n",
    "\n"
   ]
  },
  {
   "cell_type": "markdown",
   "id": "a0de8e12-c44c-4c93-a5ab-90fce9c15f37",
   "metadata": {
    "pycharm": {
     "name": "#%% md\n"
    }
   },
   "source": [
    "Question 16: \n",
    "\n",
    "Legal and Ethical Considerations: The Scottish Government must ensure that the collection and use of export data comply with data protection laws, maintain transparency, and safeguard the data against misuse or breaches.\n"
   ]
  },
  {
   "cell_type": "markdown",
   "id": "b482c0e8-dca9-423a-b48c-33111aba8793",
   "metadata": {
    "pycharm": {
     "name": "#%% md\n"
    }
   },
   "source": [
    "Question 17:\n",
    "Investment Recommendations: Without specific data insights, it’s not possible to accurately advise on reducing investments. Generally, sectors showing a decline or lacking strategic importance might be considered after careful analysis and consultation with experts."
   ]
  },
  {
   "cell_type": "code",
   "execution_count": null,
   "id": "64bf7275-1931-42b1-bf12-64a8d239eaf4",
   "metadata": {},
   "outputs": [],
   "source": []
  }
 ],
 "metadata": {
  "kernelspec": {
   "display_name": "Python 3 (ipykernel)",
   "language": "python",
   "name": "python3"
  },
  "language_info": {
   "codemirror_mode": {
    "name": "ipython",
    "version": 3
   },
   "file_extension": ".py",
   "mimetype": "text/x-python",
   "name": "python",
   "nbconvert_exporter": "python",
   "pygments_lexer": "ipython3",
   "version": "3.12.3"
  }
 },
 "nbformat": 4,
 "nbformat_minor": 5
}
